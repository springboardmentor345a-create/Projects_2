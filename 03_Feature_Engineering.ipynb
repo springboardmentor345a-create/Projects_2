{
 "cells": [
  {
   "cell_type": "markdown",
   "metadata": {},
   "source": [
    "# ScoreSight - Part 3: Feature Engineering\n",
    "\n",
    "**Author:** Prathamesh Fuke  \n",
    "**Branch:** Prathamesh_Fuke  \n",
    "**Date:** October 28, 2025\n",
    "\n",
    "## Objective\n",
    "Create new features to improve model performance:\n",
    "- **Match Prediction Features**: Team form, home/away advantage, head-to-head stats\n",
    "- **Top Scorer Features**: Goals per game, assists ratio, historical performance\n",
    "- **Points Tally Features**: Win rate, goal difference, consistency metrics"
   ]
  },
  {
   "cell_type": "markdown",
   "metadata": {},
   "source": [
    "## 1. Import Libraries and Load Cleaned Data"
   ]
  },
  {
   "cell_type": "code",
   "execution_count": null,
   "metadata": {},
   "outputs": [],
   "source": [
    "import pandas as pd\n",
    "import numpy as np\n",
    "from datetime import datetime\n",
    "import warnings\n",
    "warnings.filterwarnings('ignore')\n",
    "\n",
    "pd.set_option('display.max_columns', None)\n",
    "print(\"✓ Libraries imported\")"
   ]
  },
  {
   "cell_type": "code",
   "execution_count": null,
   "metadata": {},
   "outputs": [],
   "source": [
    "# Load cleaned datasets\n",
    "print(\"Loading cleaned datasets...\")\n",
    "match_data = pd.read_csv('data_cleaned_match.csv')\n",
    "player_data = pd.read_csv('data_cleaned_player.csv')\n",
    "league_data = pd.read_csv('data_cleaned_league.csv')\n",
    "print(f\"✓ Match data: {match_data.shape}\")\n",
    "print(f\"✓ Player data: {player_data.shape}\")\n",
    "print(f\"✓ League data: {league_data.shape}\")"
   ]
  },
  {
   "cell_type": "markdown",
   "metadata": {},
   "source": [
    "## 2. Feature Engineering for Match Prediction"
   ]
  },
  {
   "cell_type": "code",
   "execution_count": null,
   "metadata": {},
   "outputs": [],
   "source": [
    "print(\"=\"*80)\n",
    "print(\"FEATURE ENGINEERING FOR MATCH PREDICTION\")\n",
    "print(\"=\"*80)\n",
    "\n",
    "match_features = match_data.copy()\n",
    "print(f\"\\nStarting with {match_features.shape[1]} columns\")\n",
    "print(f\"Available columns: {list(match_features.columns)}\")"
   ]
  },
  {
   "cell_type": "code",
   "execution_count": null,
   "metadata": {},
   "outputs": [],
   "source": [
    "# Display sample to understand structure\n",
    "print(\"\\nSample of match data:\")\n",
    "display(match_features.head())"
   ]
  },
  {
   "cell_type": "code",
   "execution_count": null,
   "metadata": {},
   "outputs": [],
   "source": [
    "# Feature 1: Home/Away Win Rate (if applicable)\n",
    "# This section will be customized based on actual column names\n",
    "# Example features to create:\n",
    "# - home_win_rate\n",
    "# - away_win_rate\n",
    "# - goal_difference\n",
    "# - recent_form (last 5 matches)\n",
    "# - head_to_head_record\n",
    "\n",
    "print(\"\\nCreating match prediction features...\")\n",
    "print(\"Note: Features will be customized based on actual data structure\")"
   ]
  },
  {
   "cell_type": "markdown",
   "metadata": {},
   "source": [
    "## 3. Feature Engineering for Player Data (Top Scorer)"
   ]
  },
  {
   "cell_type": "code",
   "execution_count": null,
   "metadata": {},
   "outputs": [],
   "source": [
    "print(\"=\"*80)\n",
    "print(\"FEATURE ENGINEERING FOR TOP SCORER PREDICTION\")\n",
    "print(\"=\"*80)\n",
    "\n",
    "player_features = player_data.copy()\n",
    "print(f\"\\nStarting with {player_features.shape[1]} columns\")\n",
    "print(f\"Available columns: {list(player_features.columns)}\")"
   ]
  },
  {
   "cell_type": "code",
   "execution_count": null,
   "metadata": {},
   "outputs": [],
   "source": [
    "# Display sample\n",
    "print(\"\\nSample of player data:\")\n",
    "display(player_features.head())"
   ]
  },
  {
   "cell_type": "code",
   "execution_count": null,
   "metadata": {},
   "outputs": [],
   "source": [
    "# Create player performance features\n",
    "print(\"\\nCreating player performance features...\")\n",
    "\n",
    "# Check if we have goals and assists columns\n",
    "goal_cols = [col for col in player_features.columns if 'goal' in col.lower()]\n",
    "assist_cols = [col for col in player_features.columns if 'assist' in col.lower()]\n",
    "games_cols = [col for col in player_features.columns if 'game' in col.lower() or 'match' in col.lower()]\n",
    "\n",
    "print(f\"Goal-related columns: {goal_cols}\")\n",
    "print(f\"Assist-related columns: {assist_cols}\")\n",
    "print(f\"Games-related columns: {games_cols}\")"
   ]
  },
  {
   "cell_type": "code",
   "execution_count": null,
   "metadata": {},
   "outputs": [],
   "source": [
    "# Example features (will be customized):\n",
    "# - goals_per_game\n",
    "# - assists_per_game\n",
    "# - goal_contribution (goals + assists)\n",
    "# - scoring_efficiency\n",
    "# - historical_average\n",
    "\n",
    "print(\"\\nPlayer features will be created based on available columns...\")"
   ]
  },
  {
   "cell_type": "markdown",
   "metadata": {},
   "source": [
    "## 4. Feature Engineering for League/Team Data"
   ]
  },
  {
   "cell_type": "code",
   "execution_count": null,
   "metadata": {},
   "outputs": [],
   "source": [
    "print(\"=\"*80)\n",
    "print(\"FEATURE ENGINEERING FOR LEAGUE/TEAM DATA\")\n",
    "print(\"=\"*80)\n",
    "\n",
    "league_features = league_data.copy()\n",
    "print(f\"\\nStarting with {league_features.shape[1]} columns\")\n",
    "print(f\"Available columns: {list(league_features.columns)}\")"
   ]
  },
  {
   "cell_type": "code",
   "execution_count": null,
   "metadata": {},
   "outputs": [],
   "source": [
    "# Display sample\n",
    "print(\"\\nSample of league data:\")\n",
    "display(league_features.head())"
   ]
  },
  {
   "cell_type": "code",
   "execution_count": null,
   "metadata": {},
   "outputs": [],
   "source": [
    "# Create league/team features\n",
    "print(\"\\nCreating league/team features...\")\n",
    "\n",
    "# Example features:\n",
    "# - points_per_game\n",
    "# - win_percentage\n",
    "# - goal_difference_per_game\n",
    "# - consistency_score\n",
    "# - championship_history\n",
    "\n",
    "print(\"League features will be created based on available columns...\")"
   ]
  },
  {
   "cell_type": "markdown",
   "metadata": {},
   "source": [
    "## 5. Create Aggregate Features"
   ]
  },
  {
   "cell_type": "code",
   "execution_count": null,
   "metadata": {},
   "outputs": [],
   "source": [
    "print(\"=\"*80)\n",
    "print(\"CREATING AGGREGATE FEATURES\")\n",
    "print(\"=\"*80)\n",
    "\n",
    "# Aggregate features combine information from multiple datasets\n",
    "# Examples:\n",
    "# - Team offensive strength (from match data)\n",
    "# - Team defensive strength\n",
    "# - Player team context (linking player to team performance)\n",
    "\n",
    "print(\"\\nAggregate features will be created after examining data relationships...\")"
   ]
  },
  {
   "cell_type": "markdown",
   "metadata": {},
   "source": [
    "## 6. Feature Summary"
   ]
  },
  {
   "cell_type": "code",
   "execution_count": null,
   "metadata": {},
   "outputs": [],
   "source": [
    "print(\"=\"*80)\n",
    "print(\"FEATURE ENGINEERING SUMMARY\")\n",
    "print(\"=\"*80)\n",
    "\n",
    "print(f\"\\nMatch Features:\")\n",
    "print(f\"  Original columns: {match_data.shape[1]}\")\n",
    "print(f\"  After engineering: {match_features.shape[1]}\")\n",
    "print(f\"  New features created: {match_features.shape[1] - match_data.shape[1]}\")\n",
    "\n",
    "print(f\"\\nPlayer Features:\")\n",
    "print(f\"  Original columns: {player_data.shape[1]}\")\n",
    "print(f\"  After engineering: {player_features.shape[1]}\")\n",
    "print(f\"  New features created: {player_features.shape[1] - player_data.shape[1]}\")\n",
    "\n",
    "print(f\"\\nLeague Features:\")\n",
    "print(f\"  Original columns: {league_data.shape[1]}\")\n",
    "print(f\"  After engineering: {league_features.shape[1]}\")\n",
    "print(f\"  New features created: {league_features.shape[1] - league_data.shape[1]}\")"
   ]
  },
  {
   "cell_type": "markdown",
   "metadata": {},
   "source": [
    "## 7. Save Feature-Engineered Data"
   ]
  },
  {
   "cell_type": "code",
   "execution_count": null,
   "metadata": {},
   "outputs": [],
   "source": [
    "print(\"\\nSaving feature-engineered datasets...\")\n",
    "match_features.to_csv('data_features_match.csv', index=False)\n",
    "player_features.to_csv('data_features_player.csv', index=False)\n",
    "league_features.to_csv('data_features_league.csv', index=False)\n",
    "print(\"\\n✓ All feature-engineered datasets saved!\")\n",
    "print(\"\\n\" + \"=\"*80)\n",
    "print(\"NOTEBOOK 03 COMPLETED - Ready for Encoding & Feature Selection\")\n",
    "print(\"=\"*80)"
   ]
  }
 ],
 "metadata": {
  "kernelspec": {
   "display_name": "Python 3",
   "language": "python",
   "name": "python3"
  },
  "language_info": {
   "codemirror_mode": {
    "name": "ipython",
    "version": 3
   },
   "file_extension": ".py",
   "mimetype": "text/x-python",
   "name": "python",
   "nbconvert_exporter": "python",
   "pygments_lexer": "ipython3",
   "version": "3.8.0"
  }
 },
 "nbformat": 4,
 "nbformat_minor": 4
}
