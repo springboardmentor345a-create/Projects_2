{
 "cells": [
  {
   "cell_type": "markdown",
   "metadata": {},
   "source": [
    "# ScoreSight - Part 4: Encoding and Feature Selection\n",
    "\n",
    "**Author:** Prathamesh Fuke  \n",
    "**Branch:** Prathamesh_Fuke  \n",
    "**Date:** October 28, 2025\n",
    "\n",
    "## Objective\n",
    "Prepare data for machine learning models:\n",
    "- Encode categorical variables\n",
    "- Select relevant features for each prediction task\n",
    "- Handle multicollinearity\n",
    "- Scale numerical features\n",
    "- Create final datasets for modeling"
   ]
  },
  {
   "cell_type": "markdown",
   "metadata": {},
   "source": [
    "## 1. Import Libraries and Load Data"
   ]
  },
  {
   "cell_type": "code",
   "execution_count": null,
   "metadata": {},
   "outputs": [],
   "source": [
    "import pandas as pd\n",
    "import numpy as np\n",
    "from sklearn.preprocessing import LabelEncoder, StandardScaler, OneHotEncoder\n",
    "from sklearn.feature_selection import SelectKBest, f_regression, mutual_info_regression\n",
    "import warnings\n",
    "warnings.filterwarnings('ignore')\n",
    "\n",
    "pd.set_option('display.max_columns', None)\n",
    "print(\"✓ Libraries imported\")"
   ]
  },
  {
   "cell_type": "code",
   "execution_count": null,
   "metadata": {},
   "outputs": [],
   "source": [
    "# Load feature-engineered datasets\n",
    "print(\"Loading feature-engineered datasets...\")\n",
    "match_data = pd.read_csv('data_features_match.csv')\n",
    "player_data = pd.read_csv('data_features_player.csv')\n",
    "league_data = pd.read_csv('data_features_league.csv')\n",
    "print(f\"✓ Match data: {match_data.shape}\")\n",
    "print(f\"✓ Player data: {player_data.shape}\")\n",
    "print(f\"✓ League data: {league_data.shape}\")"
   ]
  },
  {
   "cell_type": "markdown",
   "metadata": {},
   "source": [
    "## 2. Encode Categorical Variables"
   ]
  },
  {
   "cell_type": "markdown",
   "metadata": {},
   "source": [
    "### 2.1 Encode Match Data"
   ]
  },
  {
   "cell_type": "code",
   "execution_count": null,
   "metadata": {},
   "outputs": [],
   "source": [
    "print(\"=\"*80)\n",
    "print(\"ENCODING MATCH DATA\")\n",
    "print(\"=\"*80)\n",
    "\n",
    "match_encoded = match_data.copy()\n",
    "\n",
    "# Identify categorical columns\n",
    "categorical_cols = match_encoded.select_dtypes(include=['object']).columns.tolist()\n",
    "print(f\"\\nCategorical columns found: {len(categorical_cols)}\")\n",
    "print(categorical_cols)"
   ]
  },
  {
   "cell_type": "code",
   "execution_count": null,
   "metadata": {},
   "outputs": [],
   "source": [
    "# Label encoding for categorical variables\n",
    "label_encoders_match = {}\n",
    "\n",
    "for col in categorical_cols:\n",
    "    le = LabelEncoder()\n",
    "    match_encoded[col + '_encoded'] = le.fit_transform(match_encoded[col].astype(str))\n",
    "    label_encoders_match[col] = le\n",
    "    print(f\"✓ Encoded '{col}' → '{col}_encoded' ({len(le.classes_)} unique values)\")\n",
    "\n",
    "print(f\"\\nTotal encoders created: {len(label_encoders_match)}\")"
   ]
  },
  {
   "cell_type": "markdown",
   "metadata": {},
   "source": [
    "### 2.2 Encode Player Data"
   ]
  },
  {
   "cell_type": "code",
   "execution_count": null,
   "metadata": {},
   "outputs": [],
   "source": [
    "print(\"=\"*80)\n",
    "print(\"ENCODING PLAYER DATA\")\n",
    "print(\"=\"*80)\n",
    "\n",
    "player_encoded = player_data.copy()\n",
    "\n",
    "# Identify categorical columns\n",
    "categorical_cols = player_encoded.select_dtypes(include=['object']).columns.tolist()\n",
    "print(f\"\\nCategorical columns found: {len(categorical_cols)}\")\n",
    "print(categorical_cols)"
   ]
  },
  {
   "cell_type": "code",
   "execution_count": null,
   "metadata": {},
   "outputs": [],
   "source": [
    "# Label encoding for categorical variables\n",
    "label_encoders_player = {}\n",
    "\n",
    "for col in categorical_cols:\n",
    "    le = LabelEncoder()\n",
    "    player_encoded[col + '_encoded'] = le.fit_transform(player_encoded[col].astype(str))\n",
    "    label_encoders_player[col] = le\n",
    "    print(f\"✓ Encoded '{col}' → '{col}_encoded' ({len(le.classes_)} unique values)\")\n",
    "\n",
    "print(f\"\\nTotal encoders created: {len(label_encoders_player)}\")"
   ]
  },
  {
   "cell_type": "markdown",
   "metadata": {},
   "source": [
    "### 2.3 Encode League Data"
   ]
  },
  {
   "cell_type": "code",
   "execution_count": null,
   "metadata": {},
   "outputs": [],
   "source": [
    "print(\"=\"*80)\n",
    "print(\"ENCODING LEAGUE DATA\")\n",
    "print(\"=\"*80)\n",
    "\n",
    "league_encoded = league_data.copy()\n",
    "\n",
    "# Identify categorical columns\n",
    "categorical_cols = league_encoded.select_dtypes(include=['object']).columns.tolist()\n",
    "print(f\"\\nCategorical columns found: {len(categorical_cols)}\")\n",
    "print(categorical_cols)"
   ]
  },
  {
   "cell_type": "code",
   "execution_count": null,
   "metadata": {},
   "outputs": [],
   "source": [
    "# Label encoding for categorical variables\n",
    "label_encoders_league = {}\n",
    "\n",
    "for col in categorical_cols:\n",
    "    le = LabelEncoder()\n",
    "    league_encoded[col + '_encoded'] = le.fit_transform(league_encoded[col].astype(str))\n",
    "    label_encoders_league[col] = le\n",
    "    print(f\"✓ Encoded '{col}' → '{col}_encoded' ({len(le.classes_)} unique values)\")\n",
    "\n",
    "print(f\"\\nTotal encoders created: {len(label_encoders_league)}\")"
   ]
  },
  {
   "cell_type": "markdown",
   "metadata": {},
   "source": [
    "## 3. Feature Selection"
   ]
  },
  {
   "cell_type": "markdown",
   "metadata": {},
   "source": [
    "### 3.1 Select Features for Match Outcome Prediction"
   ]
  },
  {
   "cell_type": "code",
   "execution_count": null,
   "metadata": {},
   "outputs": [],
   "source": [
    "print(\"=\"*80)\n",
    "print(\"FEATURE SELECTION FOR MATCH OUTCOME PREDICTION\")\n",
    "print(\"=\"*80)\n",
    "\n",
    "# Display all available columns\n",
    "print(f\"\\nAvailable columns in match data: {match_encoded.shape[1]}\")\n",
    "print(\"\\nColumn list:\")\n",
    "for i, col in enumerate(match_encoded.columns, 1):\n",
    "    print(f\"{i:3d}. {col}\")"
   ]
  },
  {
   "cell_type": "code",
   "execution_count": null,
   "metadata": {},
   "outputs": [],
   "source": [
    "# Select numeric columns only for modeling\n",
    "numeric_cols_match = match_encoded.select_dtypes(include=[np.number]).columns.tolist()\n",
    "print(f\"\\nNumeric columns available: {len(numeric_cols_match)}\")\n",
    "print(numeric_cols_match)"
   ]
  },
  {
   "cell_type": "markdown",
   "metadata": {},
   "source": [
    "### 3.2 Select Features for Top Scorer Prediction"
   ]
  },
  {
   "cell_type": "code",
   "execution_count": null,
   "metadata": {},
   "outputs": [],
   "source": [
    "print(\"=\"*80)\n",
    "print(\"FEATURE SELECTION FOR TOP SCORER PREDICTION\")\n",
    "print(\"=\"*80)\n",
    "\n",
    "# Display all available columns\n",
    "print(f\"\\nAvailable columns in player data: {player_encoded.shape[1]}\")\n",
    "print(\"\\nColumn list:\")\n",
    "for i, col in enumerate(player_encoded.columns, 1):\n",
    "    print(f\"{i:3d}. {col}\")"
   ]
  },
  {
   "cell_type": "code",
   "execution_count": null,
   "metadata": {},
   "outputs": [],
   "source": [
    "# Select numeric columns only for modeling\n",
    "numeric_cols_player = player_encoded.select_dtypes(include=[np.number]).columns.tolist()\n",
    "print(f\"\\nNumeric columns available: {len(numeric_cols_player)}\")\n",
    "print(numeric_cols_player)"
   ]
  },
  {
   "cell_type": "markdown",
   "metadata": {},
   "source": [
    "### 3.3 Select Features for Points Tally Prediction"
   ]
  },
  {
   "cell_type": "code",
   "execution_count": null,
   "metadata": {},
   "outputs": [],
   "source": [
    "print(\"=\"*80)\n",
    "print(\"FEATURE SELECTION FOR POINTS TALLY PREDICTION\")\n",
    "print(\"=\"*80)\n",
    "\n",
    "# Display all available columns\n",
    "print(f\"\\nAvailable columns in league data: {league_encoded.shape[1]}\")\n",
    "print(\"\\nColumn list:\")\n",
    "for i, col in enumerate(league_encoded.columns, 1):\n",
    "    print(f\"{i:3d}. {col}\")"
   ]
  },
  {
   "cell_type": "code",
   "execution_count": null,
   "metadata": {},
   "outputs": [],
   "source": [
    "# Select numeric columns only for modeling\n",
    "numeric_cols_league = league_encoded.select_dtypes(include=[np.number]).columns.tolist()\n",
    "print(f\"\\nNumeric columns available: {len(numeric_cols_league)}\")\n",
    "print(numeric_cols_league)"
   ]
  },
  {
   "cell_type": "markdown",
   "metadata": {},
   "source": [
    "## 4. Feature Scaling"
   ]
  },
  {
   "cell_type": "code",
   "execution_count": null,
   "metadata": {},
   "outputs": [],
   "source": [
    "print(\"=\"*80)\n",
    "print(\"FEATURE SCALING\")\n",
    "print(\"=\"*80)\n",
    "\n",
    "# Note: Scaling will be applied during model training\n",
    "# We'll save the unscaled data and scale during train/test split\n",
    "print(\"\\nFeature scaling will be applied during model training phase\")\n",
    "print(\"This ensures proper train/test separation and prevents data leakage\")"
   ]
  },
  {
   "cell_type": "markdown",
   "metadata": {},
   "source": [
    "## 5. Create Final Modeling Datasets"
   ]
  },
  {
   "cell_type": "code",
   "execution_count": null,
   "metadata": {},
   "outputs": [],
   "source": [
    "print(\"=\"*80)\n",
    "print(\"CREATING FINAL MODELING DATASETS\")\n",
    "print(\"=\"*80)\n",
    "\n",
    "# Match prediction dataset (numeric columns only)\n",
    "match_final = match_encoded[numeric_cols_match].copy()\n",
    "print(f\"\\n✓ Match prediction dataset: {match_final.shape}\")\n",
    "\n",
    "# Top scorer prediction dataset (numeric columns only)\n",
    "player_final = player_encoded[numeric_cols_player].copy()\n",
    "print(f\"✓ Top scorer prediction dataset: {player_final.shape}\")\n",
    "\n",
    "# Points tally prediction dataset (numeric columns only)\n",
    "league_final = league_encoded[numeric_cols_league].copy()\n",
    "print(f\"✓ Points tally prediction dataset: {league_final.shape}\")"
   ]
  },
  {
   "cell_type": "markdown",
   "metadata": {},
   "source": [
    "## 6. Data Summary"
   ]
  },
  {
   "cell_type": "code",
   "execution_count": null,
   "metadata": {},
   "outputs": [],
   "source": [
    "print(\"=\"*80)\n",
    "print(\"FINAL DATA SUMMARY\")\n",
    "print(\"=\"*80)\n",
    "\n",
    "print(\"\\n1. Match Outcome Prediction:\")\n",
    "print(f\"   - Samples: {match_final.shape[0]:,}\")\n",
    "print(f\"   - Features: {match_final.shape[1]}\")\n",
    "print(f\"   - Missing values: {match_final.isnull().sum().sum()}\")\n",
    "\n",
    "print(\"\\n2. Top Scorer Prediction:\")\n",
    "print(f\"   - Samples: {player_final.shape[0]:,}\")\n",
    "print(f\"   - Features: {player_final.shape[1]}\")\n",
    "print(f\"   - Missing values: {player_final.isnull().sum().sum()}\")\n",
    "\n",
    "print(\"\\n3. Points Tally Prediction:\")\n",
    "print(f\"   - Samples: {league_final.shape[0]:,}\")\n",
    "print(f\"   - Features: {league_final.shape[1]}\")\n",
    "print(f\"   - Missing values: {league_final.isnull().sum().sum()}\")"
   ]
  },
  {
   "cell_type": "markdown",
   "metadata": {},
   "source": [
    "## 7. Save Processed Data"
   ]
  },
  {
   "cell_type": "code",
   "execution_count": null,
   "metadata": {},
   "outputs": [],
   "source": [
    "print(\"\\nSaving final modeling datasets...\")\n",
    "\n",
    "# Save encoded datasets (with all columns)\n",
    "match_encoded.to_csv('data_encoded_match.csv', index=False)\n",
    "player_encoded.to_csv('data_encoded_player.csv', index=False)\n",
    "league_encoded.to_csv('data_encoded_league.csv', index=False)\n",
    "print(\"✓ Encoded datasets saved\")\n",
    "\n",
    "# Save final modeling datasets (numeric only)\n",
    "match_final.to_csv('data_final_match_prediction.csv', index=False)\n",
    "player_final.to_csv('data_final_top_scorer.csv', index=False)\n",
    "league_final.to_csv('data_final_points_tally.csv', index=False)\n",
    "print(\"✓ Final modeling datasets saved\")\n",
    "\n",
    "print(\"\\n\" + \"=\"*80)\n",
    "print(\"NOTEBOOK 04 COMPLETED - Ready for Visualization and Modeling\")\n",
    "print(\"=\"*80)"
   ]
  }
 ],
 "metadata": {
  "kernelspec": {
   "display_name": "Python 3",
   "language": "python",
   "name": "python3"
  },
  "language_info": {
   "codemirror_mode": {
    "name": "ipython",
    "version": 3
   },
   "file_extension": ".py",
   "mimetype": "text/x-python",
   "name": "python",
   "nbconvert_exporter": "python",
   "pygments_lexer": "ipython3",
   "version": "3.8.0"
  }
 },
 "nbformat": 4,
 "nbformat_minor": 4
}
