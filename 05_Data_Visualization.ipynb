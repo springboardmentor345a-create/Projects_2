{
 "cells": [
  {
   "cell_type": "markdown",
   "metadata": {},
   "source": [
    "# ScoreSight - Part 5: Data Visualization\n",
    "\n",
    "**Author:** Prathamesh Fuke  \n",
    "**Branch:** Prathamesh_Fuke  \n",
    "**Date:** October 28, 2025\n",
    "\n",
    "## Objective\n",
    "Visualize key patterns and insights:\n",
    "- Match outcome distributions\n",
    "- Team performance trends\n",
    "- Player scoring patterns\n",
    "- Feature correlations\n",
    "- Historical trends"
   ]
  },
  {
   "cell_type": "markdown",
   "metadata": {},
   "source": [
    "## 1. Import Libraries and Load Data"
   ]
  },
  {
   "cell_type": "code",
   "execution_count": null,
   "metadata": {},
   "outputs": [],
   "source": [
    "import pandas as pd\n",
    "import numpy as np\n",
    "import matplotlib.pyplot as plt\n",
    "import seaborn as sns\n",
    "import warnings\n",
    "warnings.filterwarnings('ignore')\n",
    "\n",
    "# Set visualization style\n",
    "plt.style.use('seaborn-v0_8-darkgrid')\n",
    "sns.set_palette('husl')\n",
    "plt.rcParams['figure.figsize'] = (12, 6)\n",
    "plt.rcParams['font.size'] = 10\n",
    "\n",
    "pd.set_option('display.max_columns', None)\n",
    "print(\"✓ Libraries imported\")"
   ]
  },
  {
   "cell_type": "code",
   "execution_count": null,
   "metadata": {},
   "outputs": [],
   "source": [
    "# Load encoded datasets\n",
    "print(\"Loading datasets...\")\n",
    "match_data = pd.read_csv('data_encoded_match.csv')\n",
    "player_data = pd.read_csv('data_encoded_player.csv')\n",
    "league_data = pd.read_csv('data_encoded_league.csv')\n",
    "print(f\"✓ Match data: {match_data.shape}\")\n",
    "print(f\"✓ Player data: {player_data.shape}\")\n",
    "print(f\"✓ League data: {league_data.shape}\")"
   ]
  },
  {
   "cell_type": "markdown",
   "metadata": {},
   "source": [
    "## 2. Match Data Visualizations"
   ]
  },
  {
   "cell_type": "code",
   "execution_count": null,
   "metadata": {},
   "outputs": [],
   "source": [
    "print(\"=\"*80)\n",
    "print(\"MATCH DATA VISUALIZATIONS\")\n",
    "print(\"=\"*80)\n",
    "\n",
    "# Display available columns\n",
    "print(f\"\\nAvailable columns: {list(match_data.columns)}\")"
   ]
  },
  {
   "cell_type": "code",
   "execution_count": null,
   "metadata": {},
   "outputs": [],
   "source": [
    "# Correlation heatmap for match data\n",
    "numeric_cols = match_data.select_dtypes(include=[np.number]).columns\n",
    "if len(numeric_cols) > 1:\n",
    "    plt.figure(figsize=(14, 10))\n",
    "    correlation_matrix = match_data[numeric_cols].corr()\n",
    "    sns.heatmap(correlation_matrix, annot=False, cmap='coolwarm', center=0, \n",
    "                linewidths=0.5, cbar_kws={'label': 'Correlation'})\n",
    "    plt.title('Match Data - Feature Correlation Heatmap', fontsize=14, fontweight='bold')\n",
    "    plt.tight_layout()\n",
    "    plt.savefig('viz_match_correlation.png', dpi=300, bbox_inches='tight')\n",
    "    plt.show()\n",
    "    print(\"✓ Correlation heatmap saved\")"
   ]
  },
  {
   "cell_type": "code",
   "execution_count": null,
   "metadata": {},
   "outputs": [],
   "source": [
    "# Distribution plots for key numeric features\n",
    "numeric_cols_sample = numeric_cols[:6] if len(numeric_cols) > 6 else numeric_cols\n",
    "if len(numeric_cols_sample) > 0:\n",
    "    fig, axes = plt.subplots(2, 3, figsize=(15, 10))\n",
    "    axes = axes.flatten()\n",
    "    \n",
    "    for idx, col in enumerate(numeric_cols_sample):\n",
    "        if idx < len(axes):\n",
    "            axes[idx].hist(match_data[col].dropna(), bins=30, edgecolor='black', alpha=0.7)\n",
    "            axes[idx].set_title(f'Distribution: {col}', fontweight='bold')\n",
    "            axes[idx].set_xlabel(col)\n",
    "            axes[idx].set_ylabel('Frequency')\n",
    "    \n",
    "    plt.tight_layout()\n",
    "    plt.savefig('viz_match_distributions.png', dpi=300, bbox_inches='tight')\n",
    "    plt.show()\n",
    "    print(\"✓ Distribution plots saved\")"
   ]
  },
  {
   "cell_type": "markdown",
   "metadata": {},
   "source": [
    "## 3. Player Data Visualizations"
   ]
  },
  {
   "cell_type": "code",
   "execution_count": null,
   "metadata": {},
   "outputs": [],
   "source": [
    "print(\"=\"*80)\n",
    "print(\"PLAYER DATA VISUALIZATIONS\")\n",
    "print(\"=\"*80)\n",
    "\n",
    "# Display available columns\n",
    "print(f\"\\nAvailable columns: {list(player_data.columns)}\")"
   ]
  },
  {
   "cell_type": "code",
   "execution_count": null,
   "metadata": {},
   "outputs": [],
   "source": [
    "# Correlation heatmap for player data\n",
    "numeric_cols_player = player_data.select_dtypes(include=[np.number]).columns\n",
    "if len(numeric_cols_player) > 1:\n",
    "    plt.figure(figsize=(12, 8))\n",
    "    correlation_matrix = player_data[numeric_cols_player].corr()\n",
    "    sns.heatmap(correlation_matrix, annot=False, cmap='viridis', center=0,\n",
    "                linewidths=0.5, cbar_kws={'label': 'Correlation'})\n",
    "    plt.title('Player Data - Feature Correlation Heatmap', fontsize=14, fontweight='bold')\n",
    "    plt.tight_layout()\n",
    "    plt.savefig('viz_player_correlation.png', dpi=300, bbox_inches='tight')\n",
    "    plt.show()\n",
    "    print(\"✓ Player correlation heatmap saved\")"
   ]
  },
  {
   "cell_type": "code",
   "execution_count": null,
   "metadata": {},
   "outputs": [],
   "source": [
    "# Top performers visualization (if goal columns exist)\n",
    "goal_cols = [col for col in player_data.columns if 'goal' in col.lower() and player_data[col].dtype in [np.int64, np.float64]]\n",
    "if len(goal_cols) > 0:\n",
    "    goal_col = goal_cols[0]\n",
    "    top_scorers = player_data.nlargest(10, goal_col)\n",
    "    \n",
    "    plt.figure(figsize=(12, 6))\n",
    "    plt.barh(range(len(top_scorers)), top_scorers[goal_col], color='skyblue', edgecolor='navy')\n",
    "    plt.yticks(range(len(top_scorers)), [f\"Player {i+1}\" for i in range(len(top_scorers))])\n",
    "    plt.xlabel('Goals', fontweight='bold')\n",
    "    plt.title('Top 10 Scorers', fontsize=14, fontweight='bold')\n",
    "    plt.gca().invert_yaxis()\n",
    "    plt.tight_layout()\n",
    "    plt.savefig('viz_top_scorers.png', dpi=300, bbox_inches='tight')\n",
    "    plt.show()\n",
    "    print(\"✓ Top scorers visualization saved\")"
   ]
  },
  {
   "cell_type": "markdown",
   "metadata": {},
   "source": [
    "## 4. League Data Visualizations"
   ]
  },
  {
   "cell_type": "code",
   "execution_count": null,
   "metadata": {},
   "outputs": [],
   "source": [
    "print(\"=\"*80)\n",
    "print(\"LEAGUE DATA VISUALIZATIONS\")\n",
    "print(\"=\"*80)\n",
    "\n",
    "# Display available columns\n",
    "print(f\"\\nAvailable columns: {list(league_data.columns)}\")"
   ]
  },
  {
   "cell_type": "code",
   "execution_count": null,
   "metadata": {},
   "outputs": [],
   "source": [
    "# League statistics visualization\n",
    "numeric_cols_league = league_data.select_dtypes(include=[np.number]).columns\n",
    "if len(numeric_cols_league) > 0:\n",
    "    fig, axes = plt.subplots(1, 2, figsize=(14, 5))\n",
    "    \n",
    "    # Box plots for numeric features\n",
    "    if len(numeric_cols_league) > 0:\n",
    "        sample_cols = numeric_cols_league[:5] if len(numeric_cols_league) > 5 else numeric_cols_league\n",
    "        league_data[sample_cols].boxplot(ax=axes[0])\n",
    "        axes[0].set_title('League Statistics - Box Plots', fontweight='bold')\n",
    "        axes[0].set_ylabel('Values')\n",
    "        axes[0].tick_params(axis='x', rotation=45)\n",
    "    \n",
    "    # Descriptive statistics\n",
    "    if len(numeric_cols_league) > 0:\n",
    "        stats = league_data[numeric_cols_league].describe().T\n",
    "        axes[1].axis('tight')\n",
    "        axes[1].axis('off')\n",
    "        table = axes[1].table(cellText=stats.values, colLabels=stats.columns,\n",
    "                             rowLabels=stats.index, cellLoc='center', loc='center')\n",
    "        table.auto_set_font_size(False)\n",
    "        table.set_fontsize(8)\n",
    "        table.scale(1, 2)\n",
    "        axes[1].set_title('Summary Statistics', fontweight='bold', pad=20)\n",
    "    \n",
    "    plt.tight_layout()\n",
    "    plt.savefig('viz_league_statistics.png', dpi=300, bbox_inches='tight')\n",
    "    plt.show()\n",
    "    print(\"✓ League statistics visualization saved\")"
   ]
  },
  {
   "cell_type": "markdown",
   "metadata": {},
   "source": [
    "## 5. Summary Visualization"
   ]
  },
  {
   "cell_type": "code",
   "execution_count": null,
   "metadata": {},
   "outputs": [],
   "source": [
    "# Create summary dashboard\n",
    "fig = plt.figure(figsize=(16, 10))\n",
    "gs = fig.add_gridspec(3, 3, hspace=0.3, wspace=0.3)\n",
    "\n",
    "# Dataset sizes\n",
    "ax1 = fig.add_subplot(gs[0, :])\n",
    "datasets = ['Match Data', 'Player Data', 'League Data']\n",
    "sizes = [match_data.shape[0], player_data.shape[0], league_data.shape[0]]\n",
    "colors = ['#FF6B6B', '#4ECDC4', '#45B7D1']\n",
    "ax1.bar(datasets, sizes, color=colors, edgecolor='black', linewidth=1.5)\n",
    "ax1.set_ylabel('Number of Records', fontweight='bold')\n",
    "ax1.set_title('ScoreSight - Dataset Overview', fontsize=16, fontweight='bold')\n",
    "for i, v in enumerate(sizes):\n",
    "    ax1.text(i, v + max(sizes)*0.02, f'{v:,}', ha='center', fontweight='bold')\n",
    "\n",
    "# Feature counts\n",
    "ax2 = fig.add_subplot(gs[1, 0])\n",
    "feature_counts = [match_data.shape[1], player_data.shape[1], league_data.shape[1]]\n",
    "ax2.pie(feature_counts, labels=datasets, autopct='%1.1f%%', colors=colors, startangle=90)\n",
    "ax2.set_title('Feature Distribution', fontweight='bold')\n",
    "\n",
    "# Data completeness\n",
    "ax3 = fig.add_subplot(gs[1, 1])\n",
    "completeness = [\n",
    "    (1 - match_data.isnull().sum().sum() / (match_data.shape[0] * match_data.shape[1])) * 100,\n",
    "    (1 - player_data.isnull().sum().sum() / (player_data.shape[0] * player_data.shape[1])) * 100,\n",
    "    (1 - league_data.isnull().sum().sum() / (league_data.shape[0] * league_data.shape[1])) * 100\n",
    "]\n",
    "ax3.barh(datasets, completeness, color=colors, edgecolor='black')\n",
    "ax3.set_xlabel('Completeness (%)', fontweight='bold')\n",
    "ax3.set_title('Data Completeness', fontweight='bold')\n",
    "ax3.set_xlim(0, 100)\n",
    "for i, v in enumerate(completeness):\n",
    "    ax3.text(v + 1, i, f'{v:.1f}%', va='center', fontweight='bold')\n",
    "\n",
    "# Memory usage\n",
    "ax4 = fig.add_subplot(gs[1, 2])\n",
    "memory_usage = [\n",
    "    match_data.memory_usage(deep=True).sum() / 1024**2,\n",
    "    player_data.memory_usage(deep=True).sum() / 1024**2,\n",
    "    league_data.memory_usage(deep=True).sum() / 1024**2\n",
    "]\n",
    "ax4.bar(datasets, memory_usage, color=colors, edgecolor='black')\n",
    "ax4.set_ylabel('Memory (MB)', fontweight='bold')\n",
    "ax4.set_title('Memory Usage', fontweight='bold')\n",
    "for i, v in enumerate(memory_usage):\n",
    "    ax4.text(i, v + max(memory_usage)*0.02, f'{v:.1f}', ha='center', fontweight='bold')\n",
    "\n",
    "# Summary text\n",
    "ax5 = fig.add_subplot(gs[2, :])\n",
    "ax5.axis('off')\n",
    "summary_text = f\"\"\"\n",
    "DATA PREPROCESSING SUMMARY\n",
    "{'='*80}\n",
    "\n",
    "Total Records Processed: {match_data.shape[0] + player_data.shape[0] + league_data.shape[0]:,}\n",
    "Total Features Created: {match_data.shape[1] + player_data.shape[1] + league_data.shape[1]}\n",
    "Overall Data Completeness: {np.mean(completeness):.2f}%\n",
    "\n",
    "Ready for Model Training:\n",
    "  ✓ Match Outcome Prediction\n",
    "  ✓ Top Scorer Prediction  \n",
    "  ✓ Points Tally Prediction\n",
    "\"\"\"\n",
    "ax5.text(0.5, 0.5, summary_text, ha='center', va='center', fontsize=11,\n",
    "         family='monospace', bbox=dict(boxstyle='round', facecolor='wheat', alpha=0.3))\n",
    "\n",
    "plt.savefig('viz_summary_dashboard.png', dpi=300, bbox_inches='tight')\n",
    "plt.show()\n",
    "print(\"\\n✓ Summary dashboard saved\")"
   ]
  },
  {
   "cell_type": "markdown",
   "metadata": {},
   "source": [
    "## 6. Export Visualization Summary"
   ]
  },
  {
   "cell_type": "code",
   "execution_count": null,
   "metadata": {},
   "outputs": [],
   "source": [
    "print(\"\\n\" + \"=\"*80)\n",
    "print(\"VISUALIZATION SUMMARY\")\n",
    "print(\"=\"*80)\n",
    "print(\"\\nGenerated visualizations:\")\n",
    "print(\"  1. viz_match_correlation.png - Match feature correlations\")\n",
    "print(\"  2. viz_match_distributions.png - Match feature distributions\")\n",
    "print(\"  3. viz_player_correlation.png - Player feature correlations\")\n",
    "print(\"  4. viz_top_scorers.png - Top 10 scorers\")\n",
    "print(\"  5. viz_league_statistics.png - League statistics overview\")\n",
    "print(\"  6. viz_summary_dashboard.png - Complete data summary\")\n",
    "print(\"\\n✓ All visualizations saved successfully!\")\n",
    "print(\"\\n\" + \"=\"*80)\n",
    "print(\"NOTEBOOK 05 COMPLETED - Data Visualization Finished\")\n",
    "print(\"=\"*80)"
   ]
  }
 ],
 "metadata": {
  "kernelspec": {
   "display_name": "Python 3",
   "language": "python",
   "name": "python3"
  },
  "language_info": {
   "codemirror_mode": {
    "name": "ipython",
    "version": 3
   },
   "file_extension": ".py",
   "mimetype": "text/x-python",
   "name": "python",
   "nbconvert_exporter": "python",
   "pygments_lexer": "ipython3",
   "version": "3.8.0"
  }
 },
 "nbformat": 4,
 "nbformat_minor": 4
}
