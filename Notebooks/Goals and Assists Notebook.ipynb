{
 "cells": [
  {
   "cell_type": "code",
   "execution_count": 8,
   "id": "e61093dc-463b-49b2-b17f-bae896a5b68d",
   "metadata": {},
   "outputs": [
    {
     "name": "stdout",
     "output_type": "stream",
     "text": [
      "Successfully loaded Goals & Assist dataset:\n",
      "   Unnamed: 0               Player Nation Position  Age  Matches Played  \\\n",
      "0           0        Mohamed Salah    EGY       AT   32              38   \n",
      "1           1      Virgil van Dijk    NED       DF   33              37   \n",
      "2           2     Ryan Gravenberch    NED       MT   22              37   \n",
      "3           3  Alexis Mac Allister    ARG       MT   25              35   \n",
      "4           4      Ibrahima Konaté    FRA       DF   25              31   \n",
      "\n",
      "   Starts  Minutes  90s Played  Goals  ...  Goals Per 90  Assists Per 90  \\\n",
      "0      38     3371        37.5     29  ...          0.77            0.48   \n",
      "1      37     3330        37.0      3  ...          0.08            0.03   \n",
      "2      37     3160        35.1      0  ...          0.00            0.11   \n",
      "3      30     2599        28.9      5  ...          0.17            0.17   \n",
      "4      30     2560        28.4      1  ...          0.04            0.07   \n",
      "\n",
      "   Goals + Assists Per 90  Non-Penalty Goals Per 90  \\\n",
      "0                    1.25                      0.53   \n",
      "1                    0.11                      0.08   \n",
      "2                    0.11                      0.00   \n",
      "3                    0.35                      0.17   \n",
      "4                    0.11                      0.04   \n",
      "\n",
      "   Non-Penalty Goals + Assists Per 90  xG Per 90  xAG Per 90  xG + xAG Per 90  \\\n",
      "0                                1.01       0.67        0.38             1.05   \n",
      "1                                0.11       0.06        0.02             0.08   \n",
      "2                                0.11       0.03        0.09             0.12   \n",
      "3                                0.35       0.10        0.16             0.26   \n",
      "4                                0.11       0.06        0.03             0.10   \n",
      "\n",
      "   npxG Per 90  npxG + xAG Per 90  \n",
      "0         0.49               0.87  \n",
      "1         0.06               0.08  \n",
      "2         0.03               0.12  \n",
      "3         0.10               0.26  \n",
      "4         0.06               0.10  \n",
      "\n",
      "[5 rows x 34 columns]\n",
      "\n",
      "This is the NEW, CLEANED dataframe:\n",
      "  Position  Age  Matches Played  Starts  Minutes  90s Played  Goals  Assists  \\\n",
      "0       AT   32              38      38     3371        37.5     29       18   \n",
      "1       DF   33              37      37     3330        37.0      3        1   \n",
      "2       MT   22              37      37     3160        35.1      0        4   \n",
      "3       MT   25              35      30     2599        28.9      5        5   \n",
      "4       DF   25              31      30     2560        28.4      1        2   \n",
      "\n",
      "   Progressive Receives  Goals Per 90  Assists Per 90  \\\n",
      "0                   488          0.77            0.48   \n",
      "1                     6          0.08            0.03   \n",
      "2                    55          0.00            0.11   \n",
      "3                    80          0.17            0.17   \n",
      "4                     3          0.04            0.07   \n",
      "\n",
      "   Non-Penalty Goals Per 90  xG Per 90  xAG Per 90  npxG Per 90  \n",
      "0                      0.53       0.67        0.38         0.49  \n",
      "1                      0.08       0.06        0.02         0.06  \n",
      "2                      0.00       0.03        0.09         0.03  \n",
      "3                      0.17       0.10        0.16         0.10  \n",
      "4                      0.04       0.06        0.03         0.06  \n"
     ]
    }
   ],
   "source": [
    "import pandas as pd\n",
    "\n",
    "# Load the second dataset\n",
    "df_goals_and_assists = pd.read_excel('Goals & Assists.xlsx')\n",
    "    \n",
    "# Print the first 5 rows to check\n",
    "print(\"Successfully loaded Goals & Assist dataset:\")\n",
    "print(df_goals_and_assists.head())\n",
    "\n",
    "unwanted_cols = ['Unnamed: 0', 'Player', 'Nation', 'Goals + Assists', 'Non-Penalty Goals','Penalty Goals Made', 'Penalty Attempts','Yellow Cards', 'Red Cards', 'xG', 'npxG', 'xAG', 'npxG + xAG', 'Progressive Carries','Progressive Passes','Progressive Recieves','Goals + Assists Per 90','Non-Penalty Goals + Assists Per 90','xG + xAG Per 90','npxG + xAG Per 90']\n",
    "df_goals_and_assists_cleaned = df_goals_and_assists.drop(columns=unwanted_cols, errors='ignore') # Note: I changed df_goals_cleaned to df_match_cleaned\n",
    "\n",
    "print(\"\\nThis is the NEW, CLEANED dataframe:\")\n",
    "print(df_goals_and_assists_cleaned.head())"
   ]
  },
  {
   "cell_type": "code",
   "execution_count": 7,
   "id": "5ded1934-531f-42ef-b1f3-dffc5abc5d06",
   "metadata": {},
   "outputs": [],
   "source": [
    "df_goals_and_assists_cleaned.to_excel('cleaned_goals_data.xlsx', index=False)"
   ]
  },
  {
   "cell_type": "code",
   "execution_count": null,
   "id": "f78e6801-f62d-4e18-baf6-6f23bc0a0b94",
   "metadata": {},
   "outputs": [],
   "source": []
  }
 ],
 "metadata": {
  "kernelspec": {
   "display_name": "Python 3 (ipykernel)",
   "language": "python",
   "name": "python3"
  },
  "language_info": {
   "codemirror_mode": {
    "name": "ipython",
    "version": 3
   },
   "file_extension": ".py",
   "mimetype": "text/x-python",
   "name": "python",
   "nbconvert_exporter": "python",
   "pygments_lexer": "ipython3",
   "version": "3.13.5"
  }
 },
 "nbformat": 4,
 "nbformat_minor": 5
}
