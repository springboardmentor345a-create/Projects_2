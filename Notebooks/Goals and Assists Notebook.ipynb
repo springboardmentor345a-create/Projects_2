{
 "cells": [
  {
   "cell_type": "code",
   "execution_count": null,
   "id": "e61093dc-463b-49b2-b17f-bae896a5b68d",
   "metadata": {},
   "outputs": [
    {
     "name": "stdout",
     "output_type": "stream",
     "text": [
      "✅ Successfully loaded Goals & Assist dataset\n",
      "\n",
      "✅ Columns successfully removed!\n",
      "\n",
      "📌 Cleaned dataframe (FULL OUTPUT):\n",
      "     Position  Age  Matches Played  Starts  Minutes  90s Played  Goals  \\\n",
      "0          AT   32              38      38     3371        37.5     29   \n",
      "1          DF   33              37      37     3330        37.0      3   \n",
      "2          MT   22              37      37     3160        35.1      0   \n",
      "3          MT   25              35      30     2599        28.9      5   \n",
      "4          DF   25              31      30     2560        28.4      1   \n",
      "...       ...  ...             ...     ...      ...         ...    ...   \n",
      "2269       MT   21              18       2      371         4.1      1   \n",
      "2270    MT,DF   31              20       1      273         3.0      0   \n",
      "2271       AT   26               6       1      108         1.2      0   \n",
      "2272       GB   23               1       0       12         0.1      0   \n",
      "2273       MT   18               1       0       11         0.1      0   \n",
      "\n",
      "      Assists  Progressive Receives  Goals Per 90  Assists Per 90  \\\n",
      "0          18                   488          0.77            0.48   \n",
      "1           1                     6          0.08            0.03   \n",
      "2           4                    55          0.00            0.11   \n",
      "3           5                    80          0.17            0.17   \n",
      "4           2                     3          0.04            0.07   \n",
      "...       ...                   ...           ...             ...   \n",
      "2269        2                    30          0.24            0.49   \n",
      "2270        0                     8          0.00            0.00   \n",
      "2271        0                     7          0.00            0.00   \n",
      "2272        0                     0          0.00            0.00   \n",
      "2273        0                     0          0.00            0.00   \n",
      "\n",
      "      Non-Penalty Goals Per 90  xG Per 90  xAG Per 90  npxG Per 90  \n",
      "0                         0.53       0.67        0.38         0.49  \n",
      "1                         0.08       0.06        0.02         0.06  \n",
      "2                         0.00       0.03        0.09         0.03  \n",
      "3                         0.17       0.10        0.16         0.10  \n",
      "4                         0.04       0.06        0.03         0.06  \n",
      "...                        ...        ...         ...          ...  \n",
      "2269                      0.24       0.43        0.26         0.43  \n",
      "2270                      0.00       0.00        0.02         0.00  \n",
      "2271                      0.00       0.28        0.15         0.28  \n",
      "2272                      0.00       0.00        0.00         0.00  \n",
      "2273                      0.00       0.00        0.00         0.00  \n",
      "\n",
      "[2274 rows x 15 columns]\n",
      "\n",
      "📊 Rows: 2274 | Columns: 15\n"
     ]
    }
   ],
   "source": [
    "import pandas as pd\n",
    "\n",
    "df_goals_and_assists = pd.read_excel(r'F:\\gvolume\\projects\\1\\Goals & Assist.xlsx')\n",
    "\n",
    "print(\"✅ Successfully loaded Goals & Assist dataset\")\n",
    "\n",
    "unwanted_cols = [\n",
    "    'Unnamed: 0', 'Player', 'Nation', 'Goals + Assists', 'Non-Penalty Goals',\n",
    "    'Penalty Goals Made', 'Penalty Attempts','Yellow Cards', 'Red Cards', \n",
    "    'xG', 'npxG', 'xAG', 'npxG + xAG', 'Progressive Carries',\n",
    "    'Progressive Passes','Progressive Recieves','Goals + Assists Per 90',\n",
    "    'Non-Penalty Goals + Assists Per 90','xG + xAG Per 90','npxG + xAG Per 90'\n",
    "]\n",
    "\n",
    "\n",
    "df_goals_and_assists_cleaned = df_goals_and_assists.drop(columns=unwanted_cols, errors='ignore')\n",
    "\n",
    "print(\"\\n✅ Columns successfully removed!\")\n",
    "print(\"\\n📌 Cleaned dataframe (FULL OUTPUT):\")\n",
    "print(df_goals_and_assists_cleaned)\n",
    "\n",
    "print(f\"\\n📊 Rows: {df_goals_and_assists_cleaned.shape[0]} | Columns: {df_goals_and_assists_cleaned.shape[1]}\")\n"
   ]
  },
  {
   "cell_type": "code",
   "execution_count": null,
   "id": "5ded1934-531f-42ef-b1f3-dffc5abc5d06",
   "metadata": {},
   "outputs": [],
   "source": [
    "df_goals_and_assists_cleaned.to_excel(r'F:\\gvolume\\projects\\1\\cleaned files\\updated_goals_data.xlsx', index=False)\n"
   ]
  },
  {
   "cell_type": "code",
   "execution_count": null,
   "id": "f78e6801-f62d-4e18-baf6-6f23bc0a0b94",
   "metadata": {},
   "outputs": [],
   "source": []
  }
 ],
 "metadata": {
  "kernelspec": {
   "display_name": "Python 3",
   "language": "python",
   "name": "python3"
  },
  "language_info": {
   "codemirror_mode": {
    "name": "ipython",
    "version": 3
   },
   "file_extension": ".py",
   "mimetype": "text/x-python",
   "name": "python",
   "nbconvert_exporter": "python",
   "pygments_lexer": "ipython3",
   "version": "3.13.5"
  }
 },
 "nbformat": 4,
 "nbformat_minor": 5
}
