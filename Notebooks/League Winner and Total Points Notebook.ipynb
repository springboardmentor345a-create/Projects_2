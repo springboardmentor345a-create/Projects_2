{
 "cells": [
  {
   "cell_type": "code",
   "execution_count": 5,
   "id": "e3856999-eca5-44a2-9c18-7e9d90d8b6ce",
   "metadata": {},
   "outputs": [
    {
     "name": "stdout",
     "output_type": "stream",
     "text": [
      "Successfully loaded League Winner dataset:\n",
      "    season         team  matches_played  wins  draws  losses  points_per_game  \\\n",
      "0  2015-16  Bournemouth              38    11      9      18         1.105263   \n",
      "1  2015-16      Norwich              38     9      7      22         0.894737   \n",
      "2  2015-16   Man United              38    19      9      10         1.736842   \n",
      "3  2015-16      Chelsea              38    12     14      12         1.315789   \n",
      "4  2015-16      Everton              38    11     14      13         1.236842   \n",
      "\n",
      "   goals_scored  goals_conceded  goal_difference  target_total_points  \\\n",
      "0          45.0            67.0            -22.0                   42   \n",
      "1          39.0            67.0            -28.0                   34   \n",
      "2          49.0            35.0             14.0                   66   \n",
      "3          59.0            53.0              6.0                   50   \n",
      "4          59.0            55.0              4.0                   47   \n",
      "\n",
      "   target_league_position  target_champion  target_top_4  target_top_6  \\\n",
      "0                      15                0             0             0   \n",
      "1                      19                0             0             0   \n",
      "2                       4                0             1             1   \n",
      "3                      10                0             0             0   \n",
      "4                      11                0             0             0   \n",
      "\n",
      "   target_relegated  \n",
      "0                 0  \n",
      "1                 1  \n",
      "2                 0  \n",
      "3                 0  \n",
      "4                 0  \n",
      "\n",
      "This is the NEW, CLEANED dataframe:\n",
      "    season         team  target_total_points  target_champion\n",
      "0  2015-16  Bournemouth                   42                0\n",
      "1  2015-16      Norwich                   34                0\n",
      "2  2015-16   Man United                   66                0\n",
      "3  2015-16      Chelsea                   50                0\n",
      "4  2015-16      Everton                   47                0\n"
     ]
    }
   ],
   "source": [
    "import pandas as pd\n",
    "\n",
    "# Load the third dataset\n",
    "df_league = pd.read_csv('ScoreSight_ML_Season_LeagueWinner_Champion.csv')\n",
    "\n",
    "# Print the first 5 rows to check\n",
    "print(\"Successfully loaded League Winner dataset:\")\n",
    "print(df_league.head()) \n",
    "\n",
    "unwanted_cols = ['matches_played', 'wins', 'draws', 'losses', 'points_per_game', 'goals_scored', 'goals_conceded', 'goal_difference', 'target_league_position', 'target_top_4', 'target_top_6', 'target_relegated']\n",
    "df_league_cleaned = df_league.drop(columns=unwanted_cols, errors='ignore') # Note: I changed df_goals_cleaned to df_match_cleaned\n",
    "\n",
    "print(\"\\nThis is the NEW, CLEANED dataframe:\")\n",
    "print(df_league_cleaned.head())"
   ]
  },
  {
   "cell_type": "code",
   "execution_count": 4,
   "id": "5eedbad8-fac0-4767-ba5b-d78ac2d40cde",
   "metadata": {},
   "outputs": [],
   "source": [
    "df_league_cleaned.to_excel('cleaned_league_data.xlsx', index=False)"
   ]
  },
  {
   "cell_type": "code",
   "execution_count": null,
   "id": "2885dc2b-0dd4-4ca9-8d51-a68a951e8db3",
   "metadata": {},
   "outputs": [],
   "source": []
  }
 ],
 "metadata": {
  "kernelspec": {
   "display_name": "Python 3 (ipykernel)",
   "language": "python",
   "name": "python3"
  },
  "language_info": {
   "codemirror_mode": {
    "name": "ipython",
    "version": 3
   },
   "file_extension": ".py",
   "mimetype": "text/x-python",
   "name": "python",
   "nbconvert_exporter": "python",
   "pygments_lexer": "ipython3",
   "version": "3.13.5"
  }
 },
 "nbformat": 4,
 "nbformat_minor": 5
}
