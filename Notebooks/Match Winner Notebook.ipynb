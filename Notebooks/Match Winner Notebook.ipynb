{
 "cells": [
  {
   "cell_type": "code",
   "execution_count": 11,
   "id": "146c5ff6-3b52-498e-98cd-252f6d0db034",
   "metadata": {},
   "outputs": [
    {
     "name": "stdout",
     "output_type": "stream",
     "text": [
      "Successfully loaded Match Winner dataset:\n",
      "   Unnamed: 0      Date  HomeTeam       AwayTeam  FTHG  FTAG FTR  HTGS  ATGS  \\\n",
      "0           0  19/08/00  Charlton       Man City     4     0   H     0     0   \n",
      "1           1  19/08/00   Chelsea       West Ham     4     2   H     0     0   \n",
      "2           2  19/08/00  Coventry  Middlesbrough     1     3  NH     0     0   \n",
      "3           3  19/08/00     Derby    Southampton     2     2  NH     0     0   \n",
      "4           4  19/08/00     Leeds        Everton     2     0   H     0     0   \n",
      "\n",
      "   HTGC  ...  HTLossStreak3  HTLossStreak5  ATWinStreak3 ATWinStreak5  \\\n",
      "0     0  ...              0              0             0            0   \n",
      "1     0  ...              0              0             0            0   \n",
      "2     0  ...              0              0             0            0   \n",
      "3     0  ...              0              0             0            0   \n",
      "4     0  ...              0              0             0            0   \n",
      "\n",
      "  ATLossStreak3 ATLossStreak5 HTGD ATGD DiffPts DiffFormPts  \n",
      "0             0             0  0.0  0.0     0.0         0.0  \n",
      "1             0             0  0.0  0.0     0.0         0.0  \n",
      "2             0             0  0.0  0.0     0.0         0.0  \n",
      "3             0             0  0.0  0.0     0.0         0.0  \n",
      "4             0             0  0.0  0.0     0.0         0.0  \n",
      "\n",
      "[5 rows x 40 columns]\n",
      "\n",
      "This is the NEW, CLEANED dataframe:\n",
      "  FTR  HTGS  ATGS  HTGC  ATGC  HTP  ATP HM1 HM2 HM3  ... AM1 AM2 AM3 AM4 AM5  \\\n",
      "0   H     0     0     0     0  0.0  0.0   M   M   M  ...   M   M   M   M   M   \n",
      "1   H     0     0     0     0  0.0  0.0   M   M   M  ...   M   M   M   M   M   \n",
      "2  NH     0     0     0     0  0.0  0.0   M   M   M  ...   M   M   M   M   M   \n",
      "3  NH     0     0     0     0  0.0  0.0   M   M   M  ...   M   M   M   M   M   \n",
      "4   H     0     0     0     0  0.0  0.0   M   M   M  ...   M   M   M   M   M   \n",
      "\n",
      "  ATFormPts HTGD  ATGD  DiffPts  DiffFormPts  \n",
      "0         0  0.0   0.0      0.0          0.0  \n",
      "1         0  0.0   0.0      0.0          0.0  \n",
      "2         0  0.0   0.0      0.0          0.0  \n",
      "3         0  0.0   0.0      0.0          0.0  \n",
      "4         0  0.0   0.0      0.0          0.0  \n",
      "\n",
      "[5 rows x 22 columns]\n"
     ]
    }
   ],
   "source": [
    "import pandas as pd\n",
    "\n",
    "# Load the first dataset\n",
    "df_match_winner = pd.read_csv('Match Winner.csv')\n",
    "\n",
    "# Print the first 5 rows to check\n",
    "print(\"Successfully loaded Match Winner dataset:\")\n",
    "print(df_match_winner.head())\n",
    "\n",
    "unwanted_cols = ['Unnamed: 0', 'Date', 'HomeTeam', 'AwayTeam', 'FTHG', 'FTAG', 'MW', 'HTFormPtsStr', 'ATFormPtsStr', 'HTFormPts', 'ATFormsPts', 'HTWinStreak3' ,'HTWinStreak5', 'HTLossStreak3', 'HTLossStreak5', 'ATWinStreak3', 'ATWinStreak5', 'ATLossStreak3', 'ATLossStreak5']\n",
    "df_match_winner_cleaned = df_match_winner.drop(columns=unwanted_cols, errors='ignore') # Note: I changed df_goals_cleaned to df_match_cleaned\n",
    "\n",
    "print(\"\\nThis is the NEW, CLEANED dataframe:\")\n",
    "print(df_match_winner_cleaned.head())"
   ]
  },
  {
   "cell_type": "code",
   "execution_count": 12,
   "id": "89bf1723-6d8e-4ffc-b642-5ac04ba31141",
   "metadata": {},
   "outputs": [],
   "source": [
    "df_match_winner_cleaned.to_excel('cleaned_match_winner_data.xlsx', index=False)"
   ]
  }
 ],
 "metadata": {
  "kernelspec": {
   "display_name": "Python 3 (ipykernel)",
   "language": "python",
   "name": "python3"
  },
  "language_info": {
   "codemirror_mode": {
    "name": "ipython",
    "version": 3
   },
   "file_extension": ".py",
   "mimetype": "text/x-python",
   "name": "python",
   "nbconvert_exporter": "python",
   "pygments_lexer": "ipython3",
   "version": "3.13.5"
  }
 },
 "nbformat": 4,
 "nbformat_minor": 5
}
