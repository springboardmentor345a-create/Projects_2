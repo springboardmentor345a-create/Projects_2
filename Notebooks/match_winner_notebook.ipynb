{
 "cells": [
  {
   "cell_type": "code",
   "execution_count": null,
   "id": "316e8cd2",
   "metadata": {},
   "outputs": [
    {
     "name": "stdout",
     "output_type": "stream",
     "text": [
      "📌 Columns found in file:\n",
      "['Unnamed: 0', 'Date', 'HomeTeam', 'AwayTeam', 'FTHG', 'FTAG', 'FTR', 'HTGS', 'ATGS', 'HTGC', 'ATGC', 'HTP', 'ATP', 'HM1', 'HM2', 'HM3', 'HM4', 'HM5', 'AM1', 'AM2', 'AM3', 'AM4', 'AM5', 'MW', 'HTFormPtsStr', 'ATFormPtsStr', 'HTFormPts', 'ATFormPts', 'HTWinStreak3', 'HTWinStreak5', 'HTLossStreak3', 'HTLossStreak5', 'ATWinStreak3', 'ATWinStreak5', 'ATLossStreak3', 'ATLossStreak5', 'HTGD', 'ATGD', 'DiffPts', 'DiffFormPts']\n",
      "\n",
      "✅ Cleaned dataframe (only existing selected columns kept):\n",
      "     FTR  HTGS  ATGS  HTGC  ATGC       HTP       ATP HM1 HM2 HM3  ... AM1 AM2  \\\n",
      "0      H     0     0     0     0  0.000000  0.000000   M   M   M  ...   M   M   \n",
      "1      H     0     0     0     0  0.000000  0.000000   M   M   M  ...   M   M   \n",
      "2     NH     0     0     0     0  0.000000  0.000000   M   M   M  ...   M   M   \n",
      "3     NH     0     0     0     0  0.000000  0.000000   M   M   M  ...   M   M   \n",
      "4      H     0     0     0     0  0.000000  0.000000   M   M   M  ...   M   M   \n",
      "...   ..   ...   ...   ...   ...       ...       ...  ..  ..  ..  ...  ..  ..   \n",
      "6835   H    36    62    47    35  1.078947  1.842105   L   L   L  ...   D   W   \n",
      "6836  NH    37   105    55    27  0.947368  2.552632   W   D   W  ...   W   D   \n",
      "6837  NH    27    33    54    67  0.868421  0.789474   L   L   L  ...   L   D   \n",
      "6838   H    69    52    32    55  1.947368  1.236842   W   L   W  ...   W   L   \n",
      "6839   H    45    43    67    55  1.026316  1.289474   D   W   L  ...   D   W   \n",
      "\n",
      "     AM3 AM4 AM5 ATFormPts      HTGD      ATGD   DiffPts  DiffFormPts  \n",
      "0      M   M   M         0  0.000000  0.000000  0.000000     0.000000  \n",
      "1      M   M   M         0  0.000000  0.000000  0.000000     0.000000  \n",
      "2      M   M   M         0  0.000000  0.000000  0.000000     0.000000  \n",
      "3      M   M   M         0  0.000000  0.000000  0.000000     0.000000  \n",
      "4      M   M   M         0  0.000000  0.000000  0.000000     0.000000  \n",
      "...   ..  ..  ..       ...       ...       ...       ...          ...  \n",
      "6835   W   W   W        13 -0.289474  0.710526 -0.763158    -0.263158  \n",
      "6836   W   W   W        13 -0.473684  2.052632 -1.605263    -0.131579  \n",
      "6837   D   D   L         3 -0.710526 -0.894737  0.078947    -0.052632  \n",
      "6838   L   D   L         4  0.973684 -0.078947  0.710526     0.078947  \n",
      "6839   W   D   D         9 -0.578947 -0.315789 -0.263158    -0.105263  \n",
      "\n",
      "[6840 rows x 22 columns]\n",
      "\n",
      "💾 Saved cleaned file as cleaned_match_winner.csv\n"
     ]
    }
   ],
   "source": [
    "import pandas as pd\n",
    "\n",
    "\n",
    "df_match = pd.read_csv(r'F:\\gvolume\\projects\\1\\Match Winner.csv')\n",
    "\n",
    "\n",
    "print(\"📌 Columns found in file:\")\n",
    "print(df_match.columns.tolist())\n",
    "\n",
    "\n",
    "keep_cols = [\n",
    "    'FTR', 'HTGS', 'ATGS', 'HTGC', 'ATGC', 'HTP', 'ATP',\n",
    "    'HM1', 'HM2', 'HM3', 'HM4', 'HM5', 'AM1', 'AM2', 'AM3', 'AM4', 'AM5',\n",
    "    'ATFormPts', 'HTGD', 'ATGD', 'DiffPts', 'DiffFormPts'\n",
    "]\n",
    "\n",
    "\n",
    "final_keep = [c for c in keep_cols if c in df_match.columns]\n",
    "\n",
    "df_match_cleaned = df_match[final_keep]\n",
    "\n",
    "print(\"\\n✅ Cleaned dataframe (only existing selected columns kept):\")\n",
    "print(df_match_cleaned)\n",
    "\n",
    "df_match_cleaned.to_csv(r'F:\\gvolume\\projects\\1\\cleaned_match_winner.csv', index=False)\n",
    "print(\"\\n💾 Saved cleaned file as cleaned_match_winner.csv\")\n"
   ]
  },
  {
   "cell_type": "code",
   "execution_count": null,
   "id": "8641f043",
   "metadata": {},
   "outputs": [],
   "source": [
    "df_match_cleaned.to_csv(r'F:\\gvolume\\projects\\1\\cleaned_match_winner.csv', index=False)\n"
   ]
  }
 ],
 "metadata": {
  "kernelspec": {
   "display_name": "Python 3",
   "language": "python",
   "name": "python3"
  },
  "language_info": {
   "codemirror_mode": {
    "name": "ipython",
    "version": 3
   },
   "file_extension": ".py",
   "mimetype": "text/x-python",
   "name": "python",
   "nbconvert_exporter": "python",
   "pygments_lexer": "ipython3",
   "version": "3.13.5"
  }
 },
 "nbformat": 4,
 "nbformat_minor": 5
}
