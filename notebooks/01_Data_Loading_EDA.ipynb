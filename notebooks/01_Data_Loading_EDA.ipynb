{
 "cells": [
  {
   "cell_type": "markdown",
   "metadata": {},
   "source": [
    "# ScoreSight - Part 1: Data Loading and Initial EDA\n",
    "\n",
    "**Author:** Prathamesh Fuke  \n",
    "**Branch:** Prathamesh_Fuke  \n",
    "**Date:** October 28, 2025\n",
    "\n",
    "## Objective\n",
    "Load the EPL datasets and perform initial exploratory data analysis to understand:\n",
    "- Dataset structure and dimensions\n",
    "- Column names and data types\n",
    "- Missing values\n",
    "- Basic statistics\n",
    "- Data quality issues\n",
    "\n",
    "## Datasets\n",
    "1. **Match Winner.csv** - Historical match results\n",
    "2. **Goals & Assist.xlsx** - Player statistics\n",
    "3. **ScoreSight_ML_Season_LeagueWinner_Champion.csv** - Season-level data"
   ]
  },
  {
   "cell_type": "markdown",
   "metadata": {},
   "source": [
    "## 1. Import Libraries"
   ]
  },
  {
   "cell_type": "code",
   "execution_count": null,
   "metadata": {},
   "outputs": [],
   "source": [
    "import pandas as pd\n",
    "import numpy as np\n",
    "import warnings\n",
    "warnings.filterwarnings('ignore')\n",
    "\n",
    "# Display settings\n",
    "pd.set_option('display.max_columns', None)\n",
    "pd.set_option('display.max_rows', 100)\n",
    "pd.set_option('display.width', None)\n",
    "\n",
    "print(\"\u2713 Libraries imported successfully!\")"
   ]
  },
  {
   "cell_type": "markdown",
   "metadata": {},
   "source": [
    "## 2. Load Datasets"
   ]
  },
  {
   "cell_type": "code",
   "execution_count": null,
   "metadata": {},
   "outputs": [],
   "source": [
    "# Load Match Winner dataset\n",
    "print(\"Loading Match Winner dataset...\")\n",
    "match_data = pd.read_csv('../datasets/Match Winner.csv')\n",
    "print(f\"\u2713 Loaded successfully! Shape: {match_data.shape}\")\n",
    "print(f\"  Rows: {match_data.shape[0]:,} | Columns: {match_data.shape[1]}\")"
   ]
  },
  {
   "cell_type": "code",
   "execution_count": null,
   "metadata": {},
   "outputs": [],
   "source": [
    "# Load Goals & Assist dataset\n",
    "print(\"Loading Goals & Assist dataset...\")\n",
    "player_data = pd.read_excel('../datasets/Goals & Assist.xlsx')\n",
    "print(f\"\u2713 Loaded successfully! Shape: {player_data.shape}\")\n",
    "print(f\"  Rows: {player_data.shape[0]:,} | Columns: {player_data.shape[1]}\")"
   ]
  },
  {
   "cell_type": "code",
   "execution_count": null,
   "metadata": {},
   "outputs": [],
   "source": [
    "# Load Season League Winner dataset\n",
    "print(\"Loading Season League Winner dataset...\")\n",
    "league_data = pd.read_csv('../datasets/ScoreSight_ML_Season_LeagueWinner_Champion.csv')\n",
    "print(f\"\u2713 Loaded successfully! Shape: {league_data.shape}\")\n",
    "print(f\"  Rows: {league_data.shape[0]:,} | Columns: {league_data.shape[1]}\")"
   ]
  },
  {
   "cell_type": "markdown",
   "metadata": {},
   "source": [
    "## 3. Initial Data Inspection"
   ]
  },
  {
   "cell_type": "markdown",
   "metadata": {},
   "source": [
    "### 3.1 Match Winner Dataset"
   ]
  },
  {
   "cell_type": "code",
   "execution_count": null,
   "metadata": {},
   "outputs": [],
   "source": [
    "print(\"=\"*80)\n",
    "print(\"MATCH WINNER DATASET - OVERVIEW\")\n",
    "print(\"=\"*80)\n",
    "print(f\"\\nShape: {match_data.shape}\")\n",
    "print(f\"\\nColumn Names ({len(match_data.columns)}):\")\n",
    "for i, col in enumerate(match_data.columns, 1):\n",
    "    print(f\"{i:2d}. {col}\")"
   ]
  },
  {
   "cell_type": "code",
   "execution_count": null,
   "metadata": {},
   "outputs": [],
   "source": [
    "print(\"\\nFirst 5 rows:\")\n",
    "display(match_data.head())"
   ]
  },
  {
   "cell_type": "code",
   "execution_count": null,
   "metadata": {},
   "outputs": [],
   "source": [
    "print(\"\\nData Types:\")\n",
    "print(match_data.dtypes)"
   ]
  },
  {
   "cell_type": "code",
   "execution_count": null,
   "metadata": {},
   "outputs": [],
   "source": [
    "print(\"\\nDataset Info:\")\n",
    "match_data.info()"
   ]
  },
  {
   "cell_type": "code",
   "execution_count": null,
   "metadata": {},
   "outputs": [],
   "source": [
    "print(\"\\nMissing Values Analysis:\")\n",
    "missing = match_data.isnull().sum()\n",
    "missing_pct = (missing / len(match_data)) * 100\n",
    "missing_df = pd.DataFrame({\n",
    "    'Column': match_data.columns,\n",
    "    'Missing_Count': missing.values,\n",
    "    'Missing_Percentage': missing_pct.values\n",
    "})\n",
    "missing_df = missing_df[missing_df['Missing_Count'] > 0].sort_values('Missing_Count', ascending=False)\n",
    "if len(missing_df) > 0:\n",
    "    display(missing_df)\n",
    "else:\n",
    "    print(\"\u2713 No missing values found!\")"
   ]
  },
  {
   "cell_type": "code",
   "execution_count": null,
   "metadata": {},
   "outputs": [],
   "source": [
    "print(\"\\nStatistical Summary (Numeric Columns):\")\n",
    "display(match_data.describe())"
   ]
  },
  {
   "cell_type": "markdown",
   "metadata": {},
   "source": [
    "### 3.2 Player Data (Goals & Assists)"
   ]
  },
  {
   "cell_type": "code",
   "execution_count": null,
   "metadata": {},
   "outputs": [],
   "source": [
    "print(\"=\"*80)\n",
    "print(\"PLAYER DATA (GOALS & ASSISTS) - OVERVIEW\")\n",
    "print(\"=\"*80)\n",
    "print(f\"\\nShape: {player_data.shape}\")\n",
    "print(f\"\\nColumn Names ({len(player_data.columns)}):\")\n",
    "for i, col in enumerate(player_data.columns, 1):\n",
    "    print(f\"{i:2d}. {col}\")"
   ]
  },
  {
   "cell_type": "code",
   "execution_count": null,
   "metadata": {},
   "outputs": [],
   "source": [
    "print(\"\\nFirst 5 rows:\")\n",
    "display(player_data.head())"
   ]
  },
  {
   "cell_type": "code",
   "execution_count": null,
   "metadata": {},
   "outputs": [],
   "source": [
    "print(\"\\nData Types:\")\n",
    "print(player_data.dtypes)"
   ]
  },
  {
   "cell_type": "code",
   "execution_count": null,
   "metadata": {},
   "outputs": [],
   "source": [
    "print(\"\\nDataset Info:\")\n",
    "player_data.info()"
   ]
  },
  {
   "cell_type": "code",
   "execution_count": null,
   "metadata": {},
   "outputs": [],
   "source": [
    "print(\"\\nMissing Values Analysis:\")\n",
    "missing = player_data.isnull().sum()\n",
    "missing_pct = (missing / len(player_data)) * 100\n",
    "missing_df = pd.DataFrame({\n",
    "    'Column': player_data.columns,\n",
    "    'Missing_Count': missing.values,\n",
    "    'Missing_Percentage': missing_pct.values\n",
    "})\n",
    "missing_df = missing_df[missing_df['Missing_Count'] > 0].sort_values('Missing_Count', ascending=False)\n",
    "if len(missing_df) > 0:\n",
    "    display(missing_df)\n",
    "else:\n",
    "    print(\"\u2713 No missing values found!\")"
   ]
  },
  {
   "cell_type": "code",
   "execution_count": null,
   "metadata": {},
   "outputs": [],
   "source": [
    "print(\"\\nStatistical Summary (Numeric Columns):\")\n",
    "display(player_data.describe())"
   ]
  },
  {
   "cell_type": "markdown",
   "metadata": {},
   "source": [
    "### 3.3 League Data"
   ]
  },
  {
   "cell_type": "code",
   "execution_count": null,
   "metadata": {},
   "outputs": [],
   "source": [
    "print(\"=\"*80)\n",
    "print(\"LEAGUE DATA - OVERVIEW\")\n",
    "print(\"=\"*80)\n",
    "print(f\"\\nShape: {league_data.shape}\")\n",
    "print(f\"\\nColumn Names ({len(league_data.columns)}):\")\n",
    "for i, col in enumerate(league_data.columns, 1):\n",
    "    print(f\"{i:2d}. {col}\")"
   ]
  },
  {
   "cell_type": "code",
   "execution_count": null,
   "metadata": {},
   "outputs": [],
   "source": [
    "print(\"\\nFirst 5 rows:\")\n",
    "display(league_data.head())"
   ]
  },
  {
   "cell_type": "code",
   "execution_count": null,
   "metadata": {},
   "outputs": [],
   "source": [
    "print(\"\\nData Types:\")\n",
    "print(league_data.dtypes)"
   ]
  },
  {
   "cell_type": "code",
   "execution_count": null,
   "metadata": {},
   "outputs": [],
   "source": [
    "print(\"\\nDataset Info:\")\n",
    "league_data.info()"
   ]
  },
  {
   "cell_type": "code",
   "execution_count": null,
   "metadata": {},
   "outputs": [],
   "source": [
    "print(\"\\nMissing Values Analysis:\")\n",
    "missing = league_data.isnull().sum()\n",
    "missing_pct = (missing / len(league_data)) * 100\n",
    "missing_df = pd.DataFrame({\n",
    "    'Column': league_data.columns,\n",
    "    'Missing_Count': missing.values,\n",
    "    'Missing_Percentage': missing_pct.values\n",
    "})\n",
    "missing_df = missing_df[missing_df['Missing_Count'] > 0].sort_values('Missing_Count', ascending=False)\n",
    "if len(missing_df) > 0:\n",
    "    display(missing_df)\n",
    "else:\n",
    "    print(\"\u2713 No missing values found!\")"
   ]
  },
  {
   "cell_type": "code",
   "execution_count": null,
   "metadata": {},
   "outputs": [],
   "source": [
    "print(\"\\nStatistical Summary (Numeric Columns):\")\n",
    "display(league_data.describe())"
   ]
  },
  {
   "cell_type": "markdown",
   "metadata": {},
   "source": [
    "## 4. Data Quality Checks"
   ]
  },
  {
   "cell_type": "code",
   "execution_count": null,
   "metadata": {},
   "outputs": [],
   "source": [
    "print(\"=\"*80)\n",
    "print(\"DATA QUALITY SUMMARY\")\n",
    "print(\"=\"*80)\n",
    "\n",
    "datasets = {\n",
    "    'Match Winner': match_data,\n",
    "    'Player Data': player_data,\n",
    "    'League Data': league_data\n",
    "}\n",
    "\n",
    "for name, df in datasets.items():\n",
    "    print(f\"\\n{name}:\")\n",
    "    print(f\"  - Total Rows: {len(df):,}\")\n",
    "    print(f\"  - Total Columns: {len(df.columns)}\")\n",
    "    print(f\"  - Duplicates: {df.duplicated().sum():,}\")\n",
    "    print(f\"  - Missing Values: {df.isnull().sum().sum():,}\")\n",
    "    print(f\"  - Memory Usage: {df.memory_usage(deep=True).sum() / 1024**2:.2f} MB\")"
   ]
  },
  {
   "cell_type": "markdown",
   "metadata": {},
   "source": [
    "## 5. Key Findings and Next Steps\n",
    "\n",
    "### Summary\n",
    "After loading and inspecting all three datasets, we can now proceed to:\n",
    "\n",
    "1. **Data Cleaning** (Notebook 02)\n",
    "   - Handle missing values\n",
    "   - Remove duplicates\n",
    "   - Fix data type issues\n",
    "   - Handle outliers\n",
    "\n",
    "2. **Feature Engineering** (Notebook 03)\n",
    "   - Create team form indicators\n",
    "   - Calculate goal averages\n",
    "   - Generate home/away statistics\n",
    "   - Build player performance metrics\n",
    "\n",
    "3. **Encoding & Feature Selection** (Notebook 04)\n",
    "   - Encode categorical variables\n",
    "   - Select relevant features for modeling\n",
    "   - Handle multicollinearity\n",
    "\n",
    "### Save Current State"
   ]
  },
  {
   "cell_type": "code",
   "execution_count": null,
   "metadata": {},
   "outputs": [],
   "source": [
    "# Save raw data for reference\n",
    "print(\"Saving datasets for next stage...\")\n",
    "match_data.to_csv('../data/raw/data_raw_match.csv', index=False)\n",
    "player_data.to_csv('../data/raw/data_raw_player.csv', index=False)\n",
    "league_data.to_csv('../data/raw/data_raw_league.csv', index=False)\n",
    "print(\"\\n\u2713 All datasets saved successfully!\")\n",
    "print(\"\\n\" + \"=\"*80)\n",
    "print(\"NOTEBOOK 01 COMPLETED - Ready for Data Cleaning\")\n",
    "print(\"=\"*80)"
   ]
  }
 ],
 "metadata": {
  "kernelspec": {
   "display_name": "Python 3",
   "language": "python",
   "name": "python3"
  },
  "language_info": {
   "codemirror_mode": {
    "name": "ipython",
    "version": 3
   },
   "file_extension": ".py",
   "mimetype": "text/x-python",
   "name": "python",
   "nbconvert_exporter": "python",
   "pygments_lexer": "ipython3",
   "version": "3.8.0"
  }
 },
 "nbformat": 4,
 "nbformat_minor": 4
}